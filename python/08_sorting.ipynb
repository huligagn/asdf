{
 "cells": [
  {
   "cell_type": "code",
   "execution_count": 1,
   "metadata": {},
   "outputs": [],
   "source": [
    "import numpy as np\n",
    "import pandas as pd"
   ]
  },
  {
   "cell_type": "code",
   "execution_count": 2,
   "metadata": {},
   "outputs": [
    {
     "name": "stdout",
     "output_type": "stream",
     "text": [
      "       col1      col2\n",
      "1  1.046492  0.191824\n",
      "4  1.170018 -0.434923\n",
      "6  0.178187 -0.370588\n",
      "2 -0.749511  0.302129\n",
      "3 -0.866172 -1.777900\n",
      "5  0.162053 -1.045096\n",
      "9  0.814202  2.043927\n",
      "8  1.081863 -0.944347\n",
      "0  0.448418  0.012987\n",
      "7  0.014763 -0.966705\n"
     ]
    }
   ],
   "source": [
    "unsorted_df = pd.DataFrame(np.random.randn(10,2), \n",
    "                           index=[1,4,6,2,3,5,9,8,0,7],\n",
    "                           columns=['col1','col2'])\n",
    "print(unsorted_df)"
   ]
  },
  {
   "cell_type": "code",
   "execution_count": 3,
   "metadata": {},
   "outputs": [
    {
     "name": "stdout",
     "output_type": "stream",
     "text": [
      "       col1      col2\n",
      "0  0.448418  0.012987\n",
      "1  1.046492  0.191824\n",
      "2 -0.749511  0.302129\n",
      "3 -0.866172 -1.777900\n",
      "4  1.170018 -0.434923\n",
      "5  0.162053 -1.045096\n",
      "6  0.178187 -0.370588\n",
      "7  0.014763 -0.966705\n",
      "8  1.081863 -0.944347\n",
      "9  0.814202  2.043927\n"
     ]
    }
   ],
   "source": [
    "sorted_df = unsorted_df.sort_index()\n",
    "print(sorted_df)"
   ]
  },
  {
   "cell_type": "code",
   "execution_count": 4,
   "metadata": {},
   "outputs": [
    {
     "name": "stdout",
     "output_type": "stream",
     "text": [
      "       col1      col2\n",
      "9  0.814202  2.043927\n",
      "8  1.081863 -0.944347\n",
      "7  0.014763 -0.966705\n",
      "6  0.178187 -0.370588\n",
      "5  0.162053 -1.045096\n",
      "4  1.170018 -0.434923\n",
      "3 -0.866172 -1.777900\n",
      "2 -0.749511  0.302129\n",
      "1  1.046492  0.191824\n",
      "0  0.448418  0.012987\n"
     ]
    }
   ],
   "source": [
    "sorted_df = unsorted_df.sort_index(ascending=False)\n",
    "print(sorted_df)"
   ]
  },
  {
   "cell_type": "code",
   "execution_count": 5,
   "metadata": {},
   "outputs": [
    {
     "name": "stdout",
     "output_type": "stream",
     "text": [
      "       col2      col3      col1\n",
      "1 -1.401463  1.122054 -0.662576\n",
      "3 -0.454212  1.252150 -0.444023\n",
      "4 -1.883179  0.850390 -0.474688\n",
      "2  0.466164 -2.105463  1.849858\n",
      "       col1      col2      col3\n",
      "1 -0.662576 -1.401463  1.122054\n",
      "3 -0.444023 -0.454212  1.252150\n",
      "4 -0.474688 -1.883179  0.850390\n",
      "2  1.849858  0.466164 -2.105463\n"
     ]
    }
   ],
   "source": [
    "unsorted_df = pd.DataFrame(\n",
    "    np.random.randn(4,3),\n",
    "    index=[1,3,4,2],\n",
    "    columns=['col2', 'col3', 'col1']\n",
    ")\n",
    "\n",
    "print(unsorted_df)\n",
    "sorted_df = unsorted_df.sort_index(axis=1)\n",
    "print(sorted_df)"
   ]
  },
  {
   "cell_type": "code",
   "execution_count": 6,
   "metadata": {},
   "outputs": [
    {
     "name": "stdout",
     "output_type": "stream",
     "text": [
      "   col1  col2\n",
      "0     2     1\n",
      "1     1     3\n",
      "2     1     4\n",
      "3     1     2\n",
      "   col1  col2\n",
      "1     1     3\n",
      "2     1     4\n",
      "3     1     2\n",
      "0     2     1\n"
     ]
    }
   ],
   "source": [
    "unsorted_df = pd.DataFrame({\n",
    "    'col1':[2,1,1,1],\n",
    "    'col2':[1,3,4,2]\n",
    "})\n",
    "print(unsorted_df)\n",
    "sorted_df = unsorted_df.sort_values(by='col1')\n",
    "print(sorted_df)"
   ]
  },
  {
   "cell_type": "code",
   "execution_count": 7,
   "metadata": {},
   "outputs": [
    {
     "name": "stdout",
     "output_type": "stream",
     "text": [
      "   col1  col2\n",
      "3     1     2\n",
      "1     1     3\n",
      "2     1     4\n",
      "0     2     1\n"
     ]
    }
   ],
   "source": [
    "sorted_df = unsorted_df.sort_values(by=['col1','col2'])\n",
    "print(sorted_df)"
   ]
  },
  {
   "cell_type": "code",
   "execution_count": null,
   "metadata": {},
   "outputs": [],
   "source": []
  }
 ],
 "metadata": {
  "kernelspec": {
   "display_name": "Python 3",
   "language": "python",
   "name": "python3"
  },
  "language_info": {
   "codemirror_mode": {
    "name": "ipython",
    "version": 3
   },
   "file_extension": ".py",
   "mimetype": "text/x-python",
   "name": "python",
   "nbconvert_exporter": "python",
   "pygments_lexer": "ipython3",
   "version": "3.6.5"
  }
 },
 "nbformat": 4,
 "nbformat_minor": 2
}
