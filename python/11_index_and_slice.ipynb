{
 "cells": [
  {
   "cell_type": "code",
   "execution_count": 1,
   "metadata": {},
   "outputs": [],
   "source": [
    "import numpy as np\n",
    "import pandas as pd"
   ]
  },
  {
   "cell_type": "markdown",
   "metadata": {},
   "source": [
    "`.loc()` 基于标签\n",
    "\n",
    "`.iloc()`基于整数\n",
    "\n",
    "`.ix()`基于标签和整数"
   ]
  },
  {
   "cell_type": "code",
   "execution_count": 2,
   "metadata": {},
   "outputs": [
    {
     "name": "stdout",
     "output_type": "stream",
     "text": [
      "a   -0.508238\n",
      "b    0.774151\n",
      "c   -0.052677\n",
      "d   -0.022816\n",
      "e   -0.874856\n",
      "f    0.237933\n",
      "g    1.089353\n",
      "h   -0.126186\n",
      "Name: A, dtype: float64\n"
     ]
    }
   ],
   "source": [
    "df = pd.DataFrame(np.random.randn(8,4),\n",
    "                 index=['a','b','c','d','e','f','g','h'],\n",
    "                 columns=['A','B','C','D'])\n",
    "\n",
    "print(df.loc[:,'A'])"
   ]
  },
  {
   "cell_type": "code",
   "execution_count": 3,
   "metadata": {},
   "outputs": [
    {
     "name": "stdout",
     "output_type": "stream",
     "text": [
      "          A         C\n",
      "a -0.508238  0.121374\n",
      "b  0.774151  0.378585\n",
      "c -0.052677 -1.568161\n",
      "d -0.022816 -0.896872\n",
      "e -0.874856  1.334036\n",
      "f  0.237933  0.212460\n",
      "g  1.089353  0.820420\n",
      "h -0.126186  1.869148\n"
     ]
    }
   ],
   "source": [
    "print(df.loc[:,['A','C']])"
   ]
  },
  {
   "cell_type": "code",
   "execution_count": 4,
   "metadata": {},
   "outputs": [
    {
     "name": "stdout",
     "output_type": "stream",
     "text": [
      "          A         B         C         D\n",
      "a -0.508238  1.090844  0.121374  0.015408\n",
      "b  0.774151  0.400814  0.378585 -1.462246\n",
      "c -0.052677  0.632153 -1.568161  2.146040\n",
      "d -0.022816 -2.401274 -0.896872 -0.774193\n",
      "e -0.874856 -0.880836  1.334036  1.313639\n",
      "f  0.237933 -0.256712  0.212460  0.661426\n",
      "g  1.089353  0.037212  0.820420  0.411216\n",
      "h -0.126186 -0.047127  1.869148 -0.260423\n"
     ]
    }
   ],
   "source": [
    "print(df.loc['a':'h'])"
   ]
  },
  {
   "cell_type": "code",
   "execution_count": 5,
   "metadata": {},
   "outputs": [
    {
     "name": "stdout",
     "output_type": "stream",
     "text": [
      "A    False\n",
      "B     True\n",
      "C     True\n",
      "D     True\n",
      "Name: a, dtype: bool\n"
     ]
    }
   ],
   "source": [
    "print(df.loc['a']>0)"
   ]
  },
  {
   "cell_type": "code",
   "execution_count": 6,
   "metadata": {},
   "outputs": [
    {
     "name": "stdout",
     "output_type": "stream",
     "text": [
      "          A         B         C         D\n",
      "a -0.508238  1.090844  0.121374  0.015408\n",
      "b  0.774151  0.400814  0.378585 -1.462246\n",
      "c -0.052677  0.632153 -1.568161  2.146040\n",
      "d -0.022816 -2.401274 -0.896872 -0.774193\n",
      "          C         D\n",
      "b  0.378585 -1.462246\n",
      "c -1.568161  2.146040\n",
      "d -0.896872 -0.774193\n",
      "e  1.334036  1.313639\n"
     ]
    }
   ],
   "source": [
    "print(df.iloc[:4])\n",
    "print(df.iloc[1:5, 2:4])"
   ]
  },
  {
   "cell_type": "code",
   "execution_count": 8,
   "metadata": {},
   "outputs": [
    {
     "name": "stdout",
     "output_type": "stream",
     "text": [
      "          B         D\n",
      "b  0.400814 -1.462246\n",
      "d -2.401274 -0.774193\n",
      "f -0.256712  0.661426\n",
      "          A         B         C         D\n",
      "b  0.774151  0.400814  0.378585 -1.462246\n",
      "c -0.052677  0.632153 -1.568161  2.146040\n",
      "          B         C\n",
      "a  1.090844  0.121374\n",
      "b  0.400814  0.378585\n",
      "c  0.632153 -1.568161\n",
      "d -2.401274 -0.896872\n",
      "e -0.880836  1.334036\n",
      "f -0.256712  0.212460\n",
      "g  0.037212  0.820420\n",
      "h -0.047127  1.869148\n"
     ]
    }
   ],
   "source": [
    "print(df.iloc[[1,3,5],[1,3]])\n",
    "print(df.iloc[1:3,:])\n",
    "print(df.iloc[:,1:3])"
   ]
  },
  {
   "cell_type": "code",
   "execution_count": 9,
   "metadata": {},
   "outputs": [
    {
     "name": "stdout",
     "output_type": "stream",
     "text": [
      "          A         B         C         D\n",
      "a -0.508238  1.090844  0.121374  0.015408\n",
      "b  0.774151  0.400814  0.378585 -1.462246\n",
      "c -0.052677  0.632153 -1.568161  2.146040\n",
      "d -0.022816 -2.401274 -0.896872 -0.774193\n"
     ]
    },
    {
     "name": "stderr",
     "output_type": "stream",
     "text": [
      "C:\\Users\\hulig\\Anaconda3\\lib\\site-packages\\ipykernel_launcher.py:1: DeprecationWarning: \n",
      ".ix is deprecated. Please use\n",
      ".loc for label based indexing or\n",
      ".iloc for positional indexing\n",
      "\n",
      "See the documentation here:\n",
      "http://pandas.pydata.org/pandas-docs/stable/indexing.html#ix-indexer-is-deprecated\n",
      "  \"\"\"Entry point for launching an IPython kernel.\n"
     ]
    }
   ],
   "source": [
    "print(df.ix[:4])"
   ]
  },
  {
   "cell_type": "code",
   "execution_count": 10,
   "metadata": {},
   "outputs": [
    {
     "name": "stdout",
     "output_type": "stream",
     "text": [
      "a   -0.508238\n",
      "b    0.774151\n",
      "c   -0.052677\n",
      "d   -0.022816\n",
      "e   -0.874856\n",
      "f    0.237933\n",
      "g    1.089353\n",
      "h   -0.126186\n",
      "Name: A, dtype: float64\n"
     ]
    }
   ],
   "source": [
    "print(df.A)"
   ]
  },
  {
   "cell_type": "code",
   "execution_count": 11,
   "metadata": {},
   "outputs": [
    {
     "ename": "AttributeError",
     "evalue": "'DataFrame' object has no attribute 'a'",
     "output_type": "error",
     "traceback": [
      "\u001b[1;31m---------------------------------------------------------------------------\u001b[0m",
      "\u001b[1;31mAttributeError\u001b[0m                            Traceback (most recent call last)",
      "\u001b[1;32m<ipython-input-11-6b36f147114c>\u001b[0m in \u001b[0;36m<module>\u001b[1;34m()\u001b[0m\n\u001b[1;32m----> 1\u001b[1;33m \u001b[0mprint\u001b[0m\u001b[1;33m(\u001b[0m\u001b[0mdf\u001b[0m\u001b[1;33m.\u001b[0m\u001b[0ma\u001b[0m\u001b[1;33m)\u001b[0m\u001b[1;33m\u001b[0m\u001b[0m\n\u001b[0m",
      "\u001b[1;32m~\\Anaconda3\\lib\\site-packages\\pandas\\core\\generic.py\u001b[0m in \u001b[0;36m__getattr__\u001b[1;34m(self, name)\u001b[0m\n\u001b[0;32m   4370\u001b[0m             \u001b[1;32mif\u001b[0m \u001b[0mself\u001b[0m\u001b[1;33m.\u001b[0m\u001b[0m_info_axis\u001b[0m\u001b[1;33m.\u001b[0m\u001b[0m_can_hold_identifiers_and_holds_name\u001b[0m\u001b[1;33m(\u001b[0m\u001b[0mname\u001b[0m\u001b[1;33m)\u001b[0m\u001b[1;33m:\u001b[0m\u001b[1;33m\u001b[0m\u001b[0m\n\u001b[0;32m   4371\u001b[0m                 \u001b[1;32mreturn\u001b[0m \u001b[0mself\u001b[0m\u001b[1;33m[\u001b[0m\u001b[0mname\u001b[0m\u001b[1;33m]\u001b[0m\u001b[1;33m\u001b[0m\u001b[0m\n\u001b[1;32m-> 4372\u001b[1;33m             \u001b[1;32mreturn\u001b[0m \u001b[0mobject\u001b[0m\u001b[1;33m.\u001b[0m\u001b[0m__getattribute__\u001b[0m\u001b[1;33m(\u001b[0m\u001b[0mself\u001b[0m\u001b[1;33m,\u001b[0m \u001b[0mname\u001b[0m\u001b[1;33m)\u001b[0m\u001b[1;33m\u001b[0m\u001b[0m\n\u001b[0m\u001b[0;32m   4373\u001b[0m \u001b[1;33m\u001b[0m\u001b[0m\n\u001b[0;32m   4374\u001b[0m     \u001b[1;32mdef\u001b[0m \u001b[0m__setattr__\u001b[0m\u001b[1;33m(\u001b[0m\u001b[0mself\u001b[0m\u001b[1;33m,\u001b[0m \u001b[0mname\u001b[0m\u001b[1;33m,\u001b[0m \u001b[0mvalue\u001b[0m\u001b[1;33m)\u001b[0m\u001b[1;33m:\u001b[0m\u001b[1;33m\u001b[0m\u001b[0m\n",
      "\u001b[1;31mAttributeError\u001b[0m: 'DataFrame' object has no attribute 'a'"
     ]
    }
   ],
   "source": [
    "print(df.a)"
   ]
  },
  {
   "cell_type": "code",
   "execution_count": null,
   "metadata": {},
   "outputs": [],
   "source": []
  }
 ],
 "metadata": {
  "kernelspec": {
   "display_name": "Python 3",
   "language": "python",
   "name": "python3"
  },
  "language_info": {
   "codemirror_mode": {
    "name": "ipython",
    "version": 3
   },
   "file_extension": ".py",
   "mimetype": "text/x-python",
   "name": "python",
   "nbconvert_exporter": "python",
   "pygments_lexer": "ipython3",
   "version": "3.6.5"
  }
 },
 "nbformat": 4,
 "nbformat_minor": 2
}
