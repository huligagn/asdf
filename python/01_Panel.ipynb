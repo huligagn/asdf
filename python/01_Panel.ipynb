{
 "cells": [
  {
   "cell_type": "code",
   "execution_count": 1,
   "metadata": {},
   "outputs": [],
   "source": [
    "import pandas as pd\n",
    "import numpy as np"
   ]
  },
  {
   "cell_type": "code",
   "execution_count": 2,
   "metadata": {},
   "outputs": [
    {
     "name": "stdout",
     "output_type": "stream",
     "text": [
      "[[[0.33639029 0.42808179 0.19255401 0.02552294 0.08938459]\n",
      "  [0.34338012 0.2962858  0.15029501 0.10408847 0.27497513]\n",
      "  [0.69761966 0.10723851 0.42522366 0.37046817 0.58749552]\n",
      "  [0.2630116  0.39019931 0.64927859 0.91031923 0.46288776]]\n",
      "\n",
      " [[0.91219615 0.12863083 0.59932111 0.0638757  0.8395321 ]\n",
      "  [0.86830793 0.7776833  0.68991378 0.76790344 0.62318044]\n",
      "  [0.70416581 0.89566526 0.47442041 0.11154277 0.02461457]\n",
      "  [0.71809773 0.69426814 0.52826819 0.20725565 0.79005925]]]\n",
      "<class 'pandas.core.panel.Panel'>\n",
      "Dimensions: 2 (items) x 4 (major_axis) x 5 (minor_axis)\n",
      "Items axis: 0 to 1\n",
      "Major_axis axis: 0 to 3\n",
      "Minor_axis axis: 0 to 4\n"
     ]
    }
   ],
   "source": [
    "data = np.random.rand(2,4,5)\n",
    "print(data)\n",
    "p = pd.Panel(data)\n",
    "print(p)"
   ]
  },
  {
   "cell_type": "code",
   "execution_count": 3,
   "metadata": {},
   "outputs": [
    {
     "name": "stdout",
     "output_type": "stream",
     "text": [
      "<class 'pandas.core.panel.Panel'>\n",
      "Dimensions: 2 (items) x 4 (major_axis) x 3 (minor_axis)\n",
      "Items axis: Item1 to Item2\n",
      "Major_axis axis: 0 to 3\n",
      "Minor_axis axis: 0 to 2\n"
     ]
    }
   ],
   "source": [
    "data = {\n",
    "    'Item1': pd.DataFrame(np.random.rand(4,3)),\n",
    "    'Item2': pd.DataFrame(np.random.rand(4,2))\n",
    "}\n",
    "p = pd.Panel(data)\n",
    "print(p)"
   ]
  },
  {
   "cell_type": "code",
   "execution_count": 4,
   "metadata": {},
   "outputs": [
    {
     "name": "stdout",
     "output_type": "stream",
     "text": [
      "<class 'pandas.core.panel.Panel'>\n",
      "Dimensions: 0 (items) x 0 (major_axis) x 0 (minor_axis)\n",
      "Items axis: None\n",
      "Major_axis axis: None\n",
      "Minor_axis axis: None\n"
     ]
    }
   ],
   "source": [
    "p = pd.Panel()\n",
    "print(p)"
   ]
  },
  {
   "cell_type": "code",
   "execution_count": 5,
   "metadata": {},
   "outputs": [
    {
     "name": "stdout",
     "output_type": "stream",
     "text": [
      "          0         1         2\n",
      "0  0.460247  0.364797  0.506024\n",
      "1  0.214764  0.869629  0.802114\n",
      "2  0.306094  0.318350  0.609047\n",
      "3  0.352921  0.403321  0.364716\n"
     ]
    }
   ],
   "source": [
    "data = {\n",
    "    'Item1': pd.DataFrame(np.random.rand(4,3)),\n",
    "    'Item2': pd.DataFrame(np.random.rand(4,2))\n",
    "}\n",
    "p = pd.Panel(data)\n",
    "print(p['Item1'])"
   ]
  },
  {
   "cell_type": "code",
   "execution_count": 6,
   "metadata": {},
   "outputs": [
    {
     "name": "stdout",
     "output_type": "stream",
     "text": [
      "      Item1     Item2\n",
      "0  0.214764  0.993961\n",
      "1  0.869629  0.061791\n",
      "2  0.802114       NaN\n"
     ]
    }
   ],
   "source": [
    "print(p.major_xs(1))"
   ]
  },
  {
   "cell_type": "code",
   "execution_count": 8,
   "metadata": {},
   "outputs": [
    {
     "name": "stdout",
     "output_type": "stream",
     "text": [
      "      Item1     Item2\n",
      "0  0.364797  0.704512\n",
      "1  0.869629  0.061791\n",
      "2  0.318350  0.592270\n",
      "3  0.403321  0.521774\n"
     ]
    }
   ],
   "source": [
    "print(p.minor_xs(1))"
   ]
  },
  {
   "cell_type": "code",
   "execution_count": null,
   "metadata": {},
   "outputs": [],
   "source": []
  }
 ],
 "metadata": {
  "kernelspec": {
   "display_name": "Python 3",
   "language": "python",
   "name": "python3"
  },
  "language_info": {
   "codemirror_mode": {
    "name": "ipython",
    "version": 3
   },
   "file_extension": ".py",
   "mimetype": "text/x-python",
   "name": "python",
   "nbconvert_exporter": "python",
   "pygments_lexer": "ipython3",
   "version": "3.6.5"
  }
 },
 "nbformat": 4,
 "nbformat_minor": 2
}
