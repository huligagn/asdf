{
 "cells": [
  {
   "cell_type": "code",
   "execution_count": 1,
   "metadata": {},
   "outputs": [],
   "source": [
    "import pandas as pd\n",
    "import numpy as np"
   ]
  },
  {
   "cell_type": "code",
   "execution_count": 11,
   "metadata": {},
   "outputs": [
    {
     "name": "stdout",
     "output_type": "stream",
     "text": [
      "            left     right\n",
      "state1  0.877835  0.931690\n",
      "state2  0.417892  0.644863\n",
      "state3  0.865759  0.674974\n"
     ]
    }
   ],
   "source": [
    "df = pd.DataFrame(np.random.rand(3,2), columns=['left','right'], index=['state1','state2','state3'])\n",
    "print(df)"
   ]
  },
  {
   "cell_type": "code",
   "execution_count": 12,
   "metadata": {},
   "outputs": [
    {
     "name": "stdout",
     "output_type": "stream",
     "text": [
      "left     0\n",
      "right    0\n",
      "Name: state4, dtype: int64\n"
     ]
    }
   ],
   "source": [
    "s = pd.Series([0] * 2, index=['left','right'], name='state4')\n",
    "print(s)"
   ]
  },
  {
   "cell_type": "code",
   "execution_count": 13,
   "metadata": {},
   "outputs": [
    {
     "name": "stdout",
     "output_type": "stream",
     "text": [
      "            left     right\n",
      "state1  0.877835  0.931690\n",
      "state2  0.417892  0.644863\n",
      "state3  0.865759  0.674974\n",
      "state4  0.000000  0.000000\n"
     ]
    }
   ],
   "source": [
    "print(df.append(s))"
   ]
  },
  {
   "cell_type": "code",
   "execution_count": 18,
   "metadata": {},
   "outputs": [
    {
     "name": "stdout",
     "output_type": "stream",
     "text": [
      "left     0.417892\n",
      "right    0.644863\n",
      "Name: state2, dtype: float64\n",
      "right    0.644863\n",
      "left     0.417892\n",
      "Name: state2, dtype: float64\n"
     ]
    }
   ],
   "source": [
    "state_action = df.ix['state2', :]\n",
    "print(state_action)\n",
    "state_action = state_action.reindex(np.random.permutation(['left','right']))\n",
    "print(state_action)"
   ]
  },
  {
   "cell_type": "code",
   "execution_count": 19,
   "metadata": {},
   "outputs": [
    {
     "name": "stdout",
     "output_type": "stream",
     "text": [
      "right\n"
     ]
    }
   ],
   "source": [
    "print(state_action.idxmax())"
   ]
  },
  {
   "cell_type": "code",
   "execution_count": null,
   "metadata": {},
   "outputs": [],
   "source": []
  }
 ],
 "metadata": {
  "kernelspec": {
   "display_name": "Python 3",
   "language": "python",
   "name": "python3"
  },
  "language_info": {
   "codemirror_mode": {
    "name": "ipython",
    "version": 3
   },
   "file_extension": ".py",
   "mimetype": "text/x-python",
   "name": "python",
   "nbconvert_exporter": "python",
   "pygments_lexer": "ipython3",
   "version": "3.6.5"
  }
 },
 "nbformat": 4,
 "nbformat_minor": 2
}
