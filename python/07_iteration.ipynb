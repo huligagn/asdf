{
 "cells": [
  {
   "cell_type": "code",
   "execution_count": 1,
   "metadata": {},
   "outputs": [],
   "source": [
    "import pandas as pd\n",
    "import numpy as np"
   ]
  },
  {
   "cell_type": "code",
   "execution_count": 4,
   "metadata": {},
   "outputs": [],
   "source": [
    "N = 20\n",
    "df = pd.DataFrame({\n",
    "    'A': pd.date_range(start='2018-07-04', periods=N, freq='D'),\n",
    "    'x': np.linspace(0, stop=N-1, num=N),\n",
    "    'y': np.random.rand(N),\n",
    "    'C': np.random.choice(['Low', 'Medium', 'High'],N).tolist(),\n",
    "    'D': np.random.normal(100, 10, size=(N)).tolist()\n",
    "})"
   ]
  },
  {
   "cell_type": "code",
   "execution_count": 5,
   "metadata": {},
   "outputs": [
    {
     "name": "stdout",
     "output_type": "stream",
     "text": [
      "A\n",
      "x\n",
      "y\n",
      "C\n",
      "D\n"
     ]
    }
   ],
   "source": [
    "for col in df:\n",
    "    print(col)"
   ]
  },
  {
   "cell_type": "code",
   "execution_count": 6,
   "metadata": {},
   "outputs": [
    {
     "name": "stdout",
     "output_type": "stream",
     "text": [
      "            A     x         y       C           D\n",
      "0  2018-07-04   0.0  0.117095     Low  100.376596\n",
      "1  2018-07-05   1.0  0.251416    High   93.842178\n",
      "2  2018-07-06   2.0  0.196813  Medium   80.566742\n",
      "3  2018-07-07   3.0  0.884574     Low   98.663476\n",
      "4  2018-07-08   4.0  0.614288    High   94.749134\n",
      "5  2018-07-09   5.0  0.413021    High   94.211722\n",
      "6  2018-07-10   6.0  0.674622    High   80.764082\n",
      "7  2018-07-11   7.0  0.809298     Low   96.050563\n",
      "8  2018-07-12   8.0  0.084919  Medium   99.105192\n",
      "9  2018-07-13   9.0  0.220718  Medium   97.906314\n",
      "10 2018-07-14  10.0  0.372358     Low   99.808487\n",
      "11 2018-07-15  11.0  0.356182  Medium   91.964452\n",
      "12 2018-07-16  12.0  0.548931  Medium   99.357328\n",
      "13 2018-07-17  13.0  0.672215     Low   93.698492\n",
      "14 2018-07-18  14.0  0.457687  Medium  115.699831\n",
      "15 2018-07-19  15.0  0.768827     Low   95.227902\n",
      "16 2018-07-20  16.0  0.656477  Medium   84.496122\n",
      "17 2018-07-21  17.0  0.721903  Medium   96.055202\n",
      "18 2018-07-22  18.0  0.323429     Low  103.830347\n",
      "19 2018-07-23  19.0  0.924375  Medium  103.269793\n"
     ]
    }
   ],
   "source": [
    "print(df)"
   ]
  },
  {
   "cell_type": "code",
   "execution_count": 9,
   "metadata": {},
   "outputs": [
    {
     "name": "stdout",
     "output_type": "stream",
     "text": [
      "       col1      col2      col3\n",
      "0 -0.404316  1.064747  0.027123\n",
      "1  1.022454 -1.255728 -0.559206\n",
      "2  0.156986 -2.665144  0.978168\n",
      "3  1.092443  1.032613 -0.360736\n",
      "---------\n",
      "col1 0   -0.404316\n",
      "1    1.022454\n",
      "2    0.156986\n",
      "3    1.092443\n",
      "Name: col1, dtype: float64\n",
      "col2 0    1.064747\n",
      "1   -1.255728\n",
      "2   -2.665144\n",
      "3    1.032613\n",
      "Name: col2, dtype: float64\n",
      "col3 0    0.027123\n",
      "1   -0.559206\n",
      "2    0.978168\n",
      "3   -0.360736\n",
      "Name: col3, dtype: float64\n"
     ]
    }
   ],
   "source": [
    "df = pd.DataFrame(np.random.randn(4,3), columns=['col1', 'col2', 'col3'])\n",
    "print(df)\n",
    "print('---------')\n",
    "for key,val in df.iteritems():\n",
    "    print(key, val)"
   ]
  },
  {
   "cell_type": "code",
   "execution_count": 11,
   "metadata": {},
   "outputs": [
    {
     "name": "stdout",
     "output_type": "stream",
     "text": [
      "col1   -0.404316\n",
      "col2    1.064747\n",
      "col3    0.027123\n",
      "Name: 0, dtype: float64\n",
      "col1    1.022454\n",
      "col2   -1.255728\n",
      "col3   -0.559206\n",
      "Name: 1, dtype: float64\n",
      "col1    0.156986\n",
      "col2   -2.665144\n",
      "col3    0.978168\n",
      "Name: 2, dtype: float64\n",
      "col1    1.092443\n",
      "col2    1.032613\n",
      "col3   -0.360736\n",
      "Name: 3, dtype: float64\n"
     ]
    }
   ],
   "source": [
    "for row_index, row in df.iterrows():\n",
    "    print(row)"
   ]
  },
  {
   "cell_type": "code",
   "execution_count": 12,
   "metadata": {},
   "outputs": [
    {
     "name": "stdout",
     "output_type": "stream",
     "text": [
      "Pandas(Index=0, col1=-0.40431581958052454, col2=1.0647473402833632, col3=0.027123181017202395)\n",
      "Pandas(Index=1, col1=1.022454229475004, col2=-1.2557275885940358, col3=-0.5592057129957565)\n",
      "Pandas(Index=2, col1=0.15698614942984052, col2=-2.6651439785453985, col3=0.9781681716301799)\n",
      "Pandas(Index=3, col1=1.0924434731732862, col2=1.0326132706422917, col3=-0.36073562879047955)\n"
     ]
    }
   ],
   "source": [
    "for row in df.itertuples():\n",
    "    print(row)"
   ]
  },
  {
   "cell_type": "code",
   "execution_count": null,
   "metadata": {},
   "outputs": [],
   "source": []
  }
 ],
 "metadata": {
  "kernelspec": {
   "display_name": "Python 3",
   "language": "python",
   "name": "python3"
  },
  "language_info": {
   "codemirror_mode": {
    "name": "ipython",
    "version": 3
   },
   "file_extension": ".py",
   "mimetype": "text/x-python",
   "name": "python",
   "nbconvert_exporter": "python",
   "pygments_lexer": "ipython3",
   "version": "3.6.5"
  }
 },
 "nbformat": 4,
 "nbformat_minor": 2
}
