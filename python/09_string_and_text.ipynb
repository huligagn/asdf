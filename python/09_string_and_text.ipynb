{
 "cells": [
  {
   "cell_type": "code",
   "execution_count": 1,
   "metadata": {},
   "outputs": [],
   "source": [
    "import numpy as np\n",
    "import pandas as pd"
   ]
  },
  {
   "cell_type": "code",
   "execution_count": 2,
   "metadata": {},
   "outputs": [
    {
     "name": "stdout",
     "output_type": "stream",
     "text": [
      "0             Tom\n",
      "1    William Rick\n",
      "2            John\n",
      "3          Aler@t\n",
      "4             NaN\n",
      "5            1234\n",
      "6      SteveMinsu\n",
      "dtype: object\n"
     ]
    }
   ],
   "source": [
    "s = pd.Series(['Tom', 'William Rick', 'John', 'Aler@t', np.nan, '1234','SteveMinsu'])\n",
    "print(s)"
   ]
  },
  {
   "cell_type": "code",
   "execution_count": 3,
   "metadata": {},
   "outputs": [
    {
     "name": "stdout",
     "output_type": "stream",
     "text": [
      "0             tom\n",
      "1    william rick\n",
      "2            john\n",
      "3          aler@t\n",
      "4             NaN\n",
      "5            1234\n",
      "6      steveminsu\n",
      "dtype: object\n"
     ]
    }
   ],
   "source": [
    "print(s.str.lower())"
   ]
  },
  {
   "cell_type": "code",
   "execution_count": 4,
   "metadata": {},
   "outputs": [
    {
     "name": "stdout",
     "output_type": "stream",
     "text": [
      "0             Tom\n",
      "1    William Rick\n",
      "2            John\n",
      "3          Aler@t\n",
      "4             NaN\n",
      "5            1234\n",
      "6      SteveMinsu\n",
      "dtype: object\n",
      "0             TOM\n",
      "1    WILLIAM RICK\n",
      "2            JOHN\n",
      "3          ALER@T\n",
      "4             NaN\n",
      "5            1234\n",
      "6      STEVEMINSU\n",
      "dtype: object\n"
     ]
    }
   ],
   "source": [
    "print(s)\n",
    "print(s.str.upper())"
   ]
  },
  {
   "cell_type": "code",
   "execution_count": 5,
   "metadata": {},
   "outputs": [
    {
     "name": "stdout",
     "output_type": "stream",
     "text": [
      "0     3.0\n",
      "1    12.0\n",
      "2     4.0\n",
      "3     6.0\n",
      "4     NaN\n",
      "5     4.0\n",
      "6    10.0\n",
      "dtype: float64\n"
     ]
    }
   ],
   "source": [
    "print(s.str.len())"
   ]
  },
  {
   "cell_type": "code",
   "execution_count": 6,
   "metadata": {},
   "outputs": [
    {
     "name": "stdout",
     "output_type": "stream",
     "text": [
      "0           Tom  \n",
      "1    William Rick\n",
      "2           John \n",
      "3          Aler@t\n",
      "4             NaN\n",
      "5            1234\n",
      "6      SteveMinsu\n",
      "dtype: object\n",
      "0             Tom\n",
      "1    William Rick\n",
      "2            John\n",
      "3          Aler@t\n",
      "4             NaN\n",
      "5            1234\n",
      "6      SteveMinsu\n",
      "dtype: object\n"
     ]
    }
   ],
   "source": [
    "s = pd.Series(['Tom  ', 'William Rick', 'John ', 'Aler@t', np.nan, '1234','SteveMinsu'])\n",
    "print(s)\n",
    "print(s.str.strip())"
   ]
  },
  {
   "cell_type": "code",
   "execution_count": 7,
   "metadata": {},
   "outputs": [],
   "source": [
    "s = s.str.strip()"
   ]
  },
  {
   "cell_type": "code",
   "execution_count": 8,
   "metadata": {},
   "outputs": [
    {
     "name": "stdout",
     "output_type": "stream",
     "text": [
      "Tom <=> William Rick <=> John <=> Aler@t <=> 1234 <=> SteveMinsu\n"
     ]
    }
   ],
   "source": [
    "print(s.str.cat(sep=' <=> '))"
   ]
  },
  {
   "cell_type": "code",
   "execution_count": null,
   "metadata": {},
   "outputs": [],
   "source": []
  }
 ],
 "metadata": {
  "kernelspec": {
   "display_name": "Python 3",
   "language": "python",
   "name": "python3"
  },
  "language_info": {
   "codemirror_mode": {
    "name": "ipython",
    "version": 3
   },
   "file_extension": ".py",
   "mimetype": "text/x-python",
   "name": "python",
   "nbconvert_exporter": "python",
   "pygments_lexer": "ipython3",
   "version": "3.6.5"
  }
 },
 "nbformat": 4,
 "nbformat_minor": 2
}
