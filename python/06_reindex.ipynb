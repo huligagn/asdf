{
 "cells": [
  {
   "cell_type": "code",
   "execution_count": 1,
   "metadata": {},
   "outputs": [],
   "source": [
    "import pandas as pd\n",
    "import numpy as np"
   ]
  },
  {
   "cell_type": "code",
   "execution_count": 3,
   "metadata": {},
   "outputs": [
    {
     "name": "stdout",
     "output_type": "stream",
     "text": [
      "            A     x         y       C           D\n",
      "0  2018-06-10   0.0  0.149747    High   97.381797\n",
      "1  2018-06-11   1.0  0.278389    High  105.176241\n",
      "2  2018-06-12   2.0  0.612573  Medium  110.488500\n",
      "3  2018-06-13   3.0  0.485977  Medium   93.495296\n",
      "4  2018-06-14   4.0  0.806912    High  100.662283\n",
      "5  2018-06-15   5.0  0.709913  Medium   96.799206\n",
      "6  2018-06-16   6.0  0.396785  Medium  101.300362\n",
      "7  2018-06-17   7.0  0.119588  Medium   94.657669\n",
      "8  2018-06-18   8.0  0.225592     Low  112.369617\n",
      "9  2018-06-19   9.0  0.600029     Low   94.766975\n",
      "10 2018-06-20  10.0  0.406991     Low   79.758034\n",
      "11 2018-06-21  11.0  0.228607  Medium  110.760427\n",
      "12 2018-06-22  12.0  0.180742  Medium   95.246040\n",
      "13 2018-06-23  13.0  0.158422    High  101.387726\n",
      "14 2018-06-24  14.0  0.164534     Low  110.574757\n",
      "15 2018-06-25  15.0  0.732465     Low   89.261882\n",
      "16 2018-06-26  16.0  0.889217    High   93.804886\n",
      "17 2018-06-27  17.0  0.999829  Medium   84.392460\n",
      "18 2018-06-28  18.0  0.783724  Medium  111.747062\n",
      "19 2018-06-29  19.0  0.479851     Low  109.933761\n",
      "---\n",
      "           A   B       C\n",
      "0 2018-06-10 NaN    High\n",
      "2 2018-06-12 NaN  Medium\n",
      "5 2018-06-15 NaN  Medium\n"
     ]
    }
   ],
   "source": [
    "N = 20\n",
    "df = pd.DataFrame({\n",
    "    'A': pd.date_range(start='2018-06-10', periods=N, freq='D'),\n",
    "    'x': np.linspace(0, N-1, N),\n",
    "    'y': np.random.rand(N),\n",
    "    'C': np.random.choice(['Low', 'Medium', 'High'], N).tolist(),\n",
    "    'D': np.random.normal(100, 10, size=(N)).tolist()\n",
    "})\n",
    "print(df)\n",
    "print(\"---\")\n",
    "print(df.reindex(index=[0,2,5], columns=['A','B','C']))"
   ]
  },
  {
   "cell_type": "code",
   "execution_count": 5,
   "metadata": {},
   "outputs": [
    {
     "name": "stdout",
     "output_type": "stream",
     "text": [
      "   col1  col2  col3\n",
      "0   0.0   0.0   0.0\n",
      "1   0.0   0.0   0.0\n",
      "2   0.0   0.0   0.0\n",
      "3   0.0   0.0   0.0\n",
      "4   0.0   0.0   0.0\n",
      "5   0.0   0.0   0.0\n",
      "6   0.0   0.0   0.0\n",
      "   col1  col2  col3\n",
      "0   0.0   0.0   0.0\n",
      "1   0.0   0.0   0.0\n",
      "2   0.0   0.0   0.0\n",
      "3   0.0   0.0   0.0\n",
      "4   0.0   0.0   0.0\n",
      "5   0.0   0.0   0.0\n",
      "6   0.0   0.0   0.0\n",
      "7   NaN   NaN   NaN\n",
      "8   NaN   NaN   NaN\n",
      "9   NaN   NaN   NaN\n"
     ]
    }
   ],
   "source": [
    "df1 = pd.DataFrame(np.zeros((7,3)), columns=['col1', 'col2', 'col3'])\n",
    "df2 = pd.DataFrame(np.ones((10,3)), columns=['col1', 'col2', 'col3'])\n",
    "\n",
    "print(df1)\n",
    "\n",
    "df1 = df1.reindex_like(df2)\n",
    "print(df1)"
   ]
  },
  {
   "cell_type": "code",
   "execution_count": 7,
   "metadata": {},
   "outputs": [
    {
     "name": "stdout",
     "output_type": "stream",
     "text": [
      "       col1      col2      col3\n",
      "0 -0.863059  1.306474 -0.466931\n",
      "1  0.352986  1.105060  0.377032\n",
      "2       NaN       NaN       NaN\n",
      "3       NaN       NaN       NaN\n",
      "4       NaN       NaN       NaN\n",
      "5       NaN       NaN       NaN\n",
      "Data Frame with Forward Fill:\n",
      "       col1      col2      col3\n",
      "0 -0.863059  1.306474 -0.466931\n",
      "1  0.352986  1.105060  0.377032\n",
      "2  0.352986  1.105060  0.377032\n",
      "3  0.352986  1.105060  0.377032\n",
      "4  0.352986  1.105060  0.377032\n",
      "5  0.352986  1.105060  0.377032\n"
     ]
    }
   ],
   "source": [
    "df1 = pd.DataFrame(np.random.randn(6,3),columns=['col1','col2','col3'])\n",
    "df2 = pd.DataFrame(np.random.randn(2,3),columns=['col1','col2','col3'])\n",
    "\n",
    "# Padding NAN's\n",
    "print(df2.reindex_like(df1))\n",
    "\n",
    "# Now Fill the NAN's with preceding Values\n",
    "print(\"Data Frame with Forward Fill:\")\n",
    "print(df2.reindex_like(df1,method='ffill'))"
   ]
  },
  {
   "cell_type": "code",
   "execution_count": 8,
   "metadata": {},
   "outputs": [
    {
     "name": "stdout",
     "output_type": "stream",
     "text": [
      "       col1      col2      col3\n",
      "0 -0.863059  1.306474 -0.466931\n",
      "1  0.352986  1.105060  0.377032\n",
      "2  0.352986  1.105060  0.377032\n",
      "3       NaN       NaN       NaN\n",
      "4       NaN       NaN       NaN\n",
      "5       NaN       NaN       NaN\n"
     ]
    }
   ],
   "source": [
    "print(df2.reindex_like(df1, method='ffill', limit=1))"
   ]
  },
  {
   "cell_type": "code",
   "execution_count": 9,
   "metadata": {},
   "outputs": [
    {
     "name": "stdout",
     "output_type": "stream",
     "text": [
      "       col1      col2      col3\n",
      "0  0.998197  0.564709  0.488280\n",
      "1 -0.044830  0.595513  0.103621\n",
      "2  2.240347  0.863242  1.020688\n",
      "3 -0.310958  0.011268  2.224912\n",
      "4 -1.614274 -1.068586 -2.730191\n",
      "5 -0.633079  0.347730  2.558552\n",
      "              c1        c2      col3\n",
      "apple   0.998197  0.564709  0.488280\n",
      "banana -0.044830  0.595513  0.103621\n",
      "durian  2.240347  0.863242  1.020688\n",
      "3      -0.310958  0.011268  2.224912\n",
      "4      -1.614274 -1.068586 -2.730191\n",
      "5      -0.633079  0.347730  2.558552\n"
     ]
    }
   ],
   "source": [
    "df = pd.DataFrame(np.random.randn(6,3), columns=['col1', 'col2', 'col3'])\n",
    "print(df)\n",
    "print(df.rename(columns={'col1':'c1', 'col2':'c2'}, index={0:'apple', 1:'banana', 2:'durian'}))"
   ]
  },
  {
   "cell_type": "code",
   "execution_count": null,
   "metadata": {},
   "outputs": [],
   "source": []
  }
 ],
 "metadata": {
  "kernelspec": {
   "display_name": "Python 3",
   "language": "python",
   "name": "python3"
  },
  "language_info": {
   "codemirror_mode": {
    "name": "ipython",
    "version": 3
   },
   "file_extension": ".py",
   "mimetype": "text/x-python",
   "name": "python",
   "nbconvert_exporter": "python",
   "pygments_lexer": "ipython3",
   "version": "3.6.5"
  }
 },
 "nbformat": 4,
 "nbformat_minor": 2
}
