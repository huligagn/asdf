{
 "cells": [
  {
   "cell_type": "code",
   "execution_count": 1,
   "metadata": {},
   "outputs": [],
   "source": [
    "import pandas as pd\n",
    "import numpy as np"
   ]
  },
  {
   "cell_type": "code",
   "execution_count": 2,
   "metadata": {},
   "outputs": [],
   "source": [
    "def adder(ele1, ele2):\n",
    "    return ele1+ele2"
   ]
  },
  {
   "cell_type": "code",
   "execution_count": 7,
   "metadata": {},
   "outputs": [
    {
     "name": "stdout",
     "output_type": "stream",
     "text": [
      "       col1      col2      col3\n",
      "0  0.544257  0.380511  0.352193\n",
      "1  0.269128  0.748671  0.158286\n",
      "2  0.067512  0.764636  0.827609\n",
      "3  0.191913  0.371570  0.809090\n",
      "4  0.784165  0.909130  0.429147\n",
      "       col1      col2      col3\n",
      "0  2.544257  2.380511  2.352193\n",
      "1  2.269128  2.748671  2.158286\n",
      "2  2.067512  2.764636  2.827609\n",
      "3  2.191913  2.371570  2.809090\n",
      "4  2.784165  2.909130  2.429147\n",
      "       col1      col2      col3\n",
      "0  0.544257  0.380511  0.352193\n",
      "1  0.269128  0.748671  0.158286\n",
      "2  0.067512  0.764636  0.827609\n",
      "3  0.191913  0.371570  0.809090\n",
      "4  0.784165  0.909130  0.429147\n"
     ]
    }
   ],
   "source": [
    "df = pd.DataFrame(np.random.rand(5,3), columns=['col1', 'col2', 'col3'])\n",
    "print(df)\n",
    "print(df.pipe(adder, 2))\n",
    "print(df)"
   ]
  },
  {
   "cell_type": "code",
   "execution_count": 10,
   "metadata": {},
   "outputs": [
    {
     "name": "stdout",
     "output_type": "stream",
     "text": [
      "       col1      col2      col3\n",
      "0  0.544257  0.380511  0.352193\n",
      "1  0.269128  0.748671  0.158286\n",
      "2  0.067512  0.764636  0.827609\n",
      "3  0.191913  0.371570  0.809090\n",
      "4  0.784165  0.909130  0.429147\n",
      "col1    0.371395\n",
      "col2    0.634904\n",
      "col3    0.515265\n",
      "dtype: float64\n"
     ]
    }
   ],
   "source": [
    "print(df)\n",
    "print(df.apply(np.mean))"
   ]
  },
  {
   "cell_type": "code",
   "execution_count": 11,
   "metadata": {},
   "outputs": [
    {
     "name": "stdout",
     "output_type": "stream",
     "text": [
      "       col1      col2      col3\n",
      "0  0.544257  0.380511  0.352193\n",
      "1  0.269128  0.748671  0.158286\n",
      "2  0.067512  0.764636  0.827609\n",
      "3  0.191913  0.371570  0.809090\n",
      "4  0.784165  0.909130  0.429147\n",
      "0    0.425654\n",
      "1    0.392028\n",
      "2    0.553252\n",
      "3    0.457524\n",
      "4    0.707481\n",
      "dtype: float64\n"
     ]
    }
   ],
   "source": [
    "print(df)\n",
    "print(df.apply(np.mean, axis=1))"
   ]
  },
  {
   "cell_type": "code",
   "execution_count": 12,
   "metadata": {},
   "outputs": [
    {
     "name": "stdout",
     "output_type": "stream",
     "text": [
      "       col1      col2      col3\n",
      "0  0.544257  0.380511  0.352193\n",
      "1  0.269128  0.748671  0.158286\n",
      "2  0.067512  0.764636  0.827609\n",
      "3  0.191913  0.371570  0.809090\n",
      "4  0.784165  0.909130  0.429147\n",
      "col1    0.716653\n",
      "col2    0.537561\n",
      "col3    0.669323\n",
      "dtype: float64\n"
     ]
    }
   ],
   "source": [
    "print(df)\n",
    "print(df.apply(lambda x: x.max() - x.min()))"
   ]
  },
  {
   "cell_type": "code",
   "execution_count": 14,
   "metadata": {},
   "outputs": [
    {
     "name": "stdout",
     "output_type": "stream",
     "text": [
      "0    54.425707\n",
      "1    26.912834\n",
      "2     6.751190\n",
      "3    19.191262\n",
      "4    78.416492\n",
      "Name: col1, dtype: float64\n",
      "       col1      col2      col3\n",
      "0  0.544257  0.380511  0.352193\n",
      "1  0.269128  0.748671  0.158286\n",
      "2  0.067512  0.764636  0.827609\n",
      "3  0.191913  0.371570  0.809090\n",
      "4  0.784165  0.909130  0.429147\n"
     ]
    }
   ],
   "source": [
    "print(df['col1'].map(lambda x: x*100))\n",
    "print(df)"
   ]
  },
  {
   "cell_type": "code",
   "execution_count": null,
   "metadata": {},
   "outputs": [],
   "source": []
  }
 ],
 "metadata": {
  "kernelspec": {
   "display_name": "Python 3",
   "language": "python",
   "name": "python3"
  },
  "language_info": {
   "codemirror_mode": {
    "name": "ipython",
    "version": 3
   },
   "file_extension": ".py",
   "mimetype": "text/x-python",
   "name": "python",
   "nbconvert_exporter": "python",
   "pygments_lexer": "ipython3",
   "version": "3.6.5"
  }
 },
 "nbformat": 4,
 "nbformat_minor": 2
}
